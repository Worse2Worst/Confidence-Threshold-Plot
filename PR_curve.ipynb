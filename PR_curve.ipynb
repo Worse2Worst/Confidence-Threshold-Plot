{
 "cells": [
  {
   "cell_type": "code",
   "execution_count": 5,
   "metadata": {},
   "outputs": [],
   "source": [
    "from sklearn.metrics import precision_recall_curve, f1_score, auc\n",
    "import matplotlib.pyplot as plt\n",
    "import pandas as pd\n",
    "import seaborn as sns\n"
   ]
  },
  {
   "cell_type": "markdown",
   "metadata": {},
   "source": [
    "Receiver Operating Characteristic (ROC) curves are appropriate when the observations are balanced between each class, whereas precision-recall curves are appropriate for imbalanced datasets.\n",
    "Therefore, we don't use ROC curve in this case, assuming that the anomalies are rare."
   ]
  },
  {
   "cell_type": "code",
   "execution_count": 2,
   "metadata": {},
   "outputs": [],
   "source": [
    "df = pd.read_csv('data/bottle_results.csv')\n",
    "y_score, y_test = df['Scores'], df['Label']"
   ]
  },
  {
   "cell_type": "code",
   "execution_count": 3,
   "metadata": {},
   "outputs": [
    {
     "data": {
      "text/plain": [
       "array([<AxesSubplot:title={'center':'0'}>,\n",
       "       <AxesSubplot:title={'center':'1'}>], dtype=object)"
      ]
     },
     "execution_count": 3,
     "metadata": {},
     "output_type": "execute_result"
    },
    {
     "data": {
      "image/png": "[encoded data removed]",
      "text/plain": [
       "<Figure size 432x288 with 2 Axes>"
      ]
     },
     "metadata": {
      "needs_background": "light"
     },
     "output_type": "display_data"
    }
   ],
   "source": [
    "df['Scores'].hist(by=df['Label'])"
   ]
  },
  {
   "cell_type": "code",
   "execution_count": 4,
   "metadata": {},
   "outputs": [
    {
     "data": {
      "image/png": "[encoded data removed]",
      "text/plain": [
       "<Figure size 432x288 with 1 Axes>"
      ]
     },
     "metadata": {
      "needs_background": "light"
     },
     "output_type": "display_data"
    }
   ],
   "source": [
    "#calculate precision and recall\n",
    "precision, recall, thresholds = precision_recall_curve(y_test, y_score)\n",
    "#create precision recall curve\n",
    "fig, ax = plt.subplots()\n",
    "ax.plot(recall, precision, color='purple')\n",
    "\n",
    "#add axis labels to plot\n",
    "ax.set_title('Precision-Recall Curve')\n",
    "ax.set_ylabel('Precision')\n",
    "ax.set_xlabel('Recall')\n",
    "\n",
    "#display plot\n",
    "plt.show()"
   ]
  },
  {
   "cell_type": "markdown",
   "metadata": {},
   "source": []
  },
  {
   "cell_type": "code",
   "execution_count": 8,
   "metadata": {},
   "outputs": [
    {
     "name": "stderr",
     "output_type": "stream",
     "text": [
      "c:\\ProgramData\\Anaconda3\\lib\\site-packages\\seaborn\\distributions.py:2619: FutureWarning: `distplot` is a deprecated function and will be removed in a future version. Please adapt your code to use either `displot` (a figure-level function with similar flexibility) or `histplot` (an axes-level function for histograms).\n",
      "  warnings.warn(msg, FutureWarning)\n"
     ]
    },
    {
     "data": {
      "text/plain": [
       "Text(0, 0.5, 'Sample Count')"
      ]
     },
     "execution_count": 8,
     "metadata": {},
     "output_type": "execute_result"
    },
    {
     "data": {
      "image/png": "[encoded data removed]",
      "text/plain": [
       "<Figure size 432x288 with 1 Axes>"
      ]
     },
     "metadata": {
      "needs_background": "light"
     },
     "output_type": "display_data"
    }
   ],
   "source": [
    "normal = df[df.Label == 0]\n",
    "defective = df[df.Label == 1]\n",
    "\n",
    "sns.distplot(normal['Scores'],  kde=False, label='Normal')\n",
    "sns.distplot(defective['Scores'],  kde=False,label='Defective')\n",
    "\n",
    "# Plot formatting\n",
    "plt.legend(prop={'size': 12})\n",
    "plt.title('Predicted Scores of Anomaly Detection Model')\n",
    "plt.xlabel('Scores')\n",
    "plt.ylabel('Sample Count')\n"
   ]
  },
  {
   "cell_type": "code",
   "execution_count": 13,
   "metadata": {},
   "outputs": [],
   "source": [
    "# calculate precision-recall AUC\n",
    "auc = auc(recall, precision)"
   ]
  },
  {
   "cell_type": "code",
   "execution_count": 6,
   "metadata": {},
   "outputs": [],
   "source": [
    "normal = df[df.Label == 0]\n",
    "defective = df[df.Label == 1]"
   ]
  },
  {
   "cell_type": "code",
   "execution_count": 7,
   "metadata": {},
   "outputs": [
    {
     "data": {
      "text/html": [
       "<div>\n",
       "<style scoped>\n",
       "    .dataframe tbody tr th:only-of-type {\n",
       "        vertical-align: middle;\n",
       "    }\n",
       "\n",
       "    .dataframe tbody tr th {\n",
       "        vertical-align: top;\n",
       "    }\n",
       "\n",
       "    .dataframe thead th {\n",
       "        text-align: right;\n",
       "    }\n",
       "</style>\n",
       "<table border=\"1\" class=\"dataframe\">\n",
       "  <thead>\n",
       "    <tr style=\"text-align: right;\">\n",
       "      <th></th>\n",
       "      <th>Unnamed: 0</th>\n",
       "      <th>Scores</th>\n",
       "      <th>Predicted</th>\n",
       "      <th>FileName</th>\n",
       "      <th>Label</th>\n",
       "    </tr>\n",
       "  </thead>\n",
       "  <tbody>\n",
       "    <tr>\n",
       "      <th>63</th>\n",
       "      <td>63</td>\n",
       "      <td>0.392268</td>\n",
       "      <td>Normal</td>\n",
       "      <td>datasets\\MVTec\\bottle\\test\\good\\000.png</td>\n",
       "      <td>0</td>\n",
       "    </tr>\n",
       "    <tr>\n",
       "      <th>64</th>\n",
       "      <td>64</td>\n",
       "      <td>0.397389</td>\n",
       "      <td>Normal</td>\n",
       "      <td>datasets\\MVTec\\bottle\\test\\good\\001.png</td>\n",
       "      <td>0</td>\n",
       "    </tr>\n",
       "    <tr>\n",
       "      <th>65</th>\n",
       "      <td>65</td>\n",
       "      <td>0.462828</td>\n",
       "      <td>Normal</td>\n",
       "      <td>datasets\\MVTec\\bottle\\test\\good\\002.png</td>\n",
       "      <td>0</td>\n",
       "    </tr>\n",
       "    <tr>\n",
       "      <th>66</th>\n",
       "      <td>66</td>\n",
       "      <td>0.347990</td>\n",
       "      <td>Normal</td>\n",
       "      <td>datasets\\MVTec\\bottle\\test\\good\\003.png</td>\n",
       "      <td>0</td>\n",
       "    </tr>\n",
       "    <tr>\n",
       "      <th>67</th>\n",
       "      <td>67</td>\n",
       "      <td>0.387618</td>\n",
       "      <td>Normal</td>\n",
       "      <td>datasets\\MVTec\\bottle\\test\\good\\004.png</td>\n",
       "      <td>0</td>\n",
       "    </tr>\n",
       "    <tr>\n",
       "      <th>68</th>\n",
       "      <td>68</td>\n",
       "      <td>0.365845</td>\n",
       "      <td>Normal</td>\n",
       "      <td>datasets\\MVTec\\bottle\\test\\good\\005.png</td>\n",
       "      <td>0</td>\n",
       "    </tr>\n",
       "    <tr>\n",
       "      <th>69</th>\n",
       "      <td>69</td>\n",
       "      <td>0.583107</td>\n",
       "      <td>Anomalous</td>\n",
       "      <td>datasets\\MVTec\\bottle\\test\\good\\006.png</td>\n",
       "      <td>0</td>\n",
       "    </tr>\n",
       "    <tr>\n",
       "      <th>70</th>\n",
       "      <td>70</td>\n",
       "      <td>0.424436</td>\n",
       "      <td>Normal</td>\n",
       "      <td>datasets\\MVTec\\bottle\\test\\good\\007.png</td>\n",
       "      <td>0</td>\n",
       "    </tr>\n",
       "    <tr>\n",
       "      <th>71</th>\n",
       "      <td>71</td>\n",
       "      <td>0.399648</td>\n",
       "      <td>Normal</td>\n",
       "      <td>datasets\\MVTec\\bottle\\test\\good\\008.png</td>\n",
       "      <td>0</td>\n",
       "    </tr>\n",
       "    <tr>\n",
       "      <th>72</th>\n",
       "      <td>72</td>\n",
       "      <td>0.423186</td>\n",
       "      <td>Normal</td>\n",
       "      <td>datasets\\MVTec\\bottle\\test\\good\\009.png</td>\n",
       "      <td>0</td>\n",
       "    </tr>\n",
       "    <tr>\n",
       "      <th>73</th>\n",
       "      <td>73</td>\n",
       "      <td>0.427296</td>\n",
       "      <td>Normal</td>\n",
       "      <td>datasets\\MVTec\\bottle\\test\\good\\010.png</td>\n",
       "      <td>0</td>\n",
       "    </tr>\n",
       "    <tr>\n",
       "      <th>74</th>\n",
       "      <td>74</td>\n",
       "      <td>0.372653</td>\n",
       "      <td>Normal</td>\n",
       "      <td>datasets\\MVTec\\bottle\\test\\good\\011.png</td>\n",
       "      <td>0</td>\n",
       "    </tr>\n",
       "    <tr>\n",
       "      <th>75</th>\n",
       "      <td>75</td>\n",
       "      <td>0.424217</td>\n",
       "      <td>Normal</td>\n",
       "      <td>datasets\\MVTec\\bottle\\test\\good\\012.png</td>\n",
       "      <td>0</td>\n",
       "    </tr>\n",
       "    <tr>\n",
       "      <th>76</th>\n",
       "      <td>76</td>\n",
       "      <td>0.374551</td>\n",
       "      <td>Normal</td>\n",
       "      <td>datasets\\MVTec\\bottle\\test\\good\\013.png</td>\n",
       "      <td>0</td>\n",
       "    </tr>\n",
       "    <tr>\n",
       "      <th>77</th>\n",
       "      <td>77</td>\n",
       "      <td>0.407665</td>\n",
       "      <td>Normal</td>\n",
       "      <td>datasets\\MVTec\\bottle\\test\\good\\014.png</td>\n",
       "      <td>0</td>\n",
       "    </tr>\n",
       "    <tr>\n",
       "      <th>78</th>\n",
       "      <td>78</td>\n",
       "      <td>0.530602</td>\n",
       "      <td>Anomalous</td>\n",
       "      <td>datasets\\MVTec\\bottle\\test\\good\\015.png</td>\n",
       "      <td>0</td>\n",
       "    </tr>\n",
       "    <tr>\n",
       "      <th>79</th>\n",
       "      <td>79</td>\n",
       "      <td>0.417932</td>\n",
       "      <td>Normal</td>\n",
       "      <td>datasets\\MVTec\\bottle\\test\\good\\016.png</td>\n",
       "      <td>0</td>\n",
       "    </tr>\n",
       "    <tr>\n",
       "      <th>80</th>\n",
       "      <td>80</td>\n",
       "      <td>0.380307</td>\n",
       "      <td>Normal</td>\n",
       "      <td>datasets\\MVTec\\bottle\\test\\good\\017.png</td>\n",
       "      <td>0</td>\n",
       "    </tr>\n",
       "    <tr>\n",
       "      <th>81</th>\n",
       "      <td>81</td>\n",
       "      <td>0.403874</td>\n",
       "      <td>Normal</td>\n",
       "      <td>datasets\\MVTec\\bottle\\test\\good\\018.png</td>\n",
       "      <td>0</td>\n",
       "    </tr>\n",
       "    <tr>\n",
       "      <th>82</th>\n",
       "      <td>82</td>\n",
       "      <td>0.466985</td>\n",
       "      <td>Normal</td>\n",
       "      <td>datasets\\MVTec\\bottle\\test\\good\\019.png</td>\n",
       "      <td>0</td>\n",
       "    </tr>\n",
       "  </tbody>\n",
       "</table>\n",
       "</div>"
      ],
      "text/plain": [
       "    Unnamed: 0    Scores  Predicted                                 FileName  \\\n",
       "63          63  0.392268     Normal  datasets\\MVTec\\bottle\\test\\good\\000.png   \n",
       "64          64  0.397389     Normal  datasets\\MVTec\\bottle\\test\\good\\001.png   \n",
       "65          65  0.462828     Normal  datasets\\MVTec\\bottle\\test\\good\\002.png   \n",
       "66          66  0.347990     Normal  datasets\\MVTec\\bottle\\test\\good\\003.png   \n",
       "67          67  0.387618     Normal  datasets\\MVTec\\bottle\\test\\good\\004.png   \n",
       "68          68  0.365845     Normal  datasets\\MVTec\\bottle\\test\\good\\005.png   \n",
       "69          69  0.583107  Anomalous  datasets\\MVTec\\bottle\\test\\good\\006.png   \n",
       "70          70  0.424436     Normal  datasets\\MVTec\\bottle\\test\\good\\007.png   \n",
       "71          71  0.399648     Normal  datasets\\MVTec\\bottle\\test\\good\\008.png   \n",
       "72          72  0.423186     Normal  datasets\\MVTec\\bottle\\test\\good\\009.png   \n",
       "73          73  0.427296     Normal  datasets\\MVTec\\bottle\\test\\good\\010.png   \n",
       "74          74  0.372653     Normal  datasets\\MVTec\\bottle\\test\\good\\011.png   \n",
       "75          75  0.424217     Normal  datasets\\MVTec\\bottle\\test\\good\\012.png   \n",
       "76          76  0.374551     Normal  datasets\\MVTec\\bottle\\test\\good\\013.png   \n",
       "77          77  0.407665     Normal  datasets\\MVTec\\bottle\\test\\good\\014.png   \n",
       "78          78  0.530602  Anomalous  datasets\\MVTec\\bottle\\test\\good\\015.png   \n",
       "79          79  0.417932     Normal  datasets\\MVTec\\bottle\\test\\good\\016.png   \n",
       "80          80  0.380307     Normal  datasets\\MVTec\\bottle\\test\\good\\017.png   \n",
       "81          81  0.403874     Normal  datasets\\MVTec\\bottle\\test\\good\\018.png   \n",
       "82          82  0.466985     Normal  datasets\\MVTec\\bottle\\test\\good\\019.png   \n",
       "\n",
       "    Label  \n",
       "63      0  \n",
       "64      0  \n",
       "65      0  \n",
       "66      0  \n",
       "67      0  \n",
       "68      0  \n",
       "69      0  \n",
       "70      0  \n",
       "71      0  \n",
       "72      0  \n",
       "73      0  \n",
       "74      0  \n",
       "75      0  \n",
       "76      0  \n",
       "77      0  \n",
       "78      0  \n",
       "79      0  \n",
       "80      0  \n",
       "81      0  \n",
       "82      0  "
      ]
     },
     "execution_count": 7,
     "metadata": {},
     "output_type": "execute_result"
    }
   ],
   "source": [
    "normal"
   ]
  },
  {
   "cell_type": "code",
   "execution_count": 28,
   "metadata": {},
   "outputs": [
    {
     "data": {
      "text/plain": [
       "array([1.      , 0.984375, 0.96875 , 0.953125, 0.9375  , 0.921875,\n",
       "       0.90625 , 0.890625, 0.875   , 0.859375, 0.84375 , 0.828125,\n",
       "       0.8125  , 0.796875, 0.78125 , 0.765625, 0.75    , 0.734375,\n",
       "       0.71875 , 0.703125, 0.6875  , 0.671875, 0.65625 , 0.640625,\n",
       "       0.625   , 0.609375, 0.59375 , 0.578125, 0.5625  , 0.546875,\n",
       "       0.53125 , 0.515625, 0.5     , 0.484375, 0.46875 , 0.453125,\n",
       "       0.4375  , 0.421875, 0.40625 , 0.390625, 0.375   , 0.359375,\n",
       "       0.34375 , 0.328125, 0.3125  , 0.296875, 0.28125 , 0.265625,\n",
       "       0.25    , 0.234375, 0.21875 , 0.203125, 0.1875  , 0.171875,\n",
       "       0.15625 , 0.140625, 0.125   , 0.109375, 0.09375 , 0.078125,\n",
       "       0.      ])"
      ]
     },
     "execution_count": 28,
     "metadata": {},
     "output_type": "execute_result"
    }
   ],
   "source": [
    "recall"
   ]
  },
  {
   "cell_type": "code",
   "execution_count": null,
   "metadata": {},
   "outputs": [],
   "source": []
  }
 ],
 "metadata": {
  "kernelspec": {
   "display_name": "Python 3.9.7 ('base')",
   "language": "python",
   "name": "python3"
  },
  "language_info": {
   "codemirror_mode": {
    "name": "ipython",
    "version": 3
   },
   "file_extension": ".py",
   "mimetype": "text/x-python",
   "name": "python",
   "nbconvert_exporter": "python",
   "pygments_lexer": "ipython3",
   "version": "3.9.7"
  },
  "orig_nbformat": 4,
  "vscode": {
   "interpreter": {
    "hash": "ad2bdc8ecc057115af97d19610ffacc2b4e99fae6737bb82f5d7fb13d2f2c186"
   }
  }
 },
 "nbformat": 4,
 "nbformat_minor": 2
}
